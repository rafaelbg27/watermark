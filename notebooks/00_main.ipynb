{
 "cells": [
  {
   "cell_type": "code",
   "execution_count": 1,
   "metadata": {},
   "outputs": [],
   "source": [
    "from watermark.interfaces.data_interactor import DataInteractor\n",
    "from watermark import get_data_path"
   ]
  },
  {
   "cell_type": "code",
   "execution_count": null,
   "metadata": {},
   "outputs": [],
   "source": []
  },
  {
   "cell_type": "code",
   "execution_count": null,
   "metadata": {},
   "outputs": [],
   "source": []
  },
  {
   "cell_type": "code",
   "execution_count": 2,
   "metadata": {},
   "outputs": [],
   "source": [
    "import PyPDF2\n",
    "from PyPDF2 import PdfMerger\n",
    "from PyPDF2 import PdfReader, PdfWriter"
   ]
  },
  {
   "cell_type": "code",
   "execution_count": 3,
   "metadata": {},
   "outputs": [],
   "source": [
    "# Let's create a function that receivaes a str text and a PDF file, and creates a new PDF file with the text as a watermark and the same page size as the original PDF file.\n",
    "\n",
    "def create_watermark(text, pdf_file):\n",
    "    # Create a PDF writer object for the output file\n",
    "    pdf_writer = PdfWriter()\n",
    "    \n",
    "    # Open the PDF file\n",
    "    pdf_reader = PdfReader(pdf_file)\n",
    "    \n",
    "    # Loop through all the pages (except the first one) and add a watermark\n",
    "    for page in range(1, len(pdf_reader.pages)):\n",
    "        # Get the page object\n",
    "        pdf_page = pdf_reader.pages[page]\n",
    "        \n",
    "        # Merge the watermark with the page\n",
    "        pdf_page.mergePage(text)\n",
    "        \n",
    "        # Add the page to the writer object\n",
    "        pdf_writer.addPage(pdf_page)\n",
    "        \n",
    "    # Write the output file\n",
    "    with open('watermarked.pdf', 'wb') as out:\n",
    "        pdf_writer.write(out)"
   ]
  },
  {
   "cell_type": "code",
   "execution_count": 4,
   "metadata": {},
   "outputs": [],
   "source": [
    "create_watermark(\"Watermark\", get_data_path(\"external/watermark_test.pdf\"))"
   ]
  },
  {
   "cell_type": "code",
   "execution_count": 37,
   "metadata": {},
   "outputs": [],
   "source": [
    "import PyPDF2\n",
    "from reportlab.pdfgen import canvas\n",
    "from reportlab.lib.pagesizes import letter\n",
    "\n",
    "def create_watermark(text, path):\n",
    "    # Create a PDF canvas with the same size as the original PDF\n",
    "    pdf = PyPDF2.PdfReader(open(path, \"rb\"))\n",
    "    page = pdf.pages[0]\n",
    "    width, height = page.mediabox.width, page.mediabox.height\n",
    "    # Create a PDF canvas with the same size as the original PDF\n",
    "    # and draw the watermark text in the middle with a big font\n",
    "    c = canvas.Canvas(\"watermark.pdf\", pagesize=(width, height))\n",
    "    c.translate(width/2, height/2.5)\n",
    "    c.rotate(30)\n",
    "    c.setFillColorRGB(0.5, 0.5, 0.5, 0.5)\n",
    "    c.setFont(\"Helvetica\", 100)\n",
    "    c.drawCentredString(0, 0, text)\n",
    "    c.save()\n",
    "\n",
    "\n",
    "    # c = canvas.Canvas(\"watermark.pdf\", pagesize=(width, height))\n",
    "    # c.drawString(width/2, height/2, text)\n",
    "    # c.save()\n",
    "\n",
    "    # Merge the watermark with the original PDF\n",
    "    watermark = PyPDF2.PdfReader(open(\"watermark.pdf\", \"rb\"))\n",
    "    output = PyPDF2.PdfWriter()\n",
    "    for i in range(len(pdf.pages)):\n",
    "        page = pdf.pages[i]\n",
    "        page.merge_page(watermark.pages[0])\n",
    "        output.add_page(page)\n",
    "\n",
    "    # Save the watermarked PDF\n",
    "    with open(path[:-4] + \"_watermarked.pdf\", \"wb\") as f:\n",
    "        output.write(f)"
   ]
  },
  {
   "cell_type": "code",
   "execution_count": 38,
   "metadata": {},
   "outputs": [],
   "source": [
    "create_watermark(\"Watermark\", get_data_path(\"external/watermark_test.pdf\"))"
   ]
  },
  {
   "cell_type": "code",
   "execution_count": null,
   "metadata": {},
   "outputs": [],
   "source": [
    "# Let's create a function that receivaes a str text and a PDF file, and creates a new PDF file with the text as a watermark and the same page size as the original PDF file.\n",
    "from io import BytesIO\n",
    "from PyPDF2 import PdfFileReader, PdfWriter\n",
    "\n",
    "def create_watermark(text, pdf_file):\n",
    "    # Create a new PDF file\n",
    "    new_pdf = PdfWriter()\n",
    "    # Open the original PDF file\n",
    "    pdf = PdfReader(pdf_file)\n",
    "    # Get the first page of the original PDF file\n",
    "    page = pdf.pages[0]\n",
    "    # Get the page size of the original PDF file\n",
    "    page_size = page.mediabox\n",
    "    # Create a new page with the same page size\n",
    "    new_page = PdfReader(BytesIO(b\"\")).getPage(0)\n",
    "    new_page.mediaBox.upperRight = page_size[2], page_size[3]\n",
    "    # Add the original page to the new page\n",
    "    new_pdf.addPage(page)\n",
    "    # Create a new watermark object\n",
    "    watermark = PdfReader(BytesIO(text.encode(\"utf-8\")))\n",
    "    # Merge the new page with the watermark\n",
    "    new_page.mergePage(watermark.getPage(0))\n",
    "    # Add the new page to the new PDF file\n",
    "    new_pdf.addPage(new_page)\n",
    "    # Save the new PDF file\n",
    "    with open(f\"{pdf_file[:-4]}_watermark.pdf\", \"wb\") as f:\n",
    "        new_pdf.write(f)\n"
   ]
  },
  {
   "cell_type": "code",
   "execution_count": null,
   "metadata": {},
   "outputs": [],
   "source": [
    "create_watermark(\"Watermark\", get_data_path(\"external/watermark_test.pdf\"))"
   ]
  },
  {
   "cell_type": "code",
   "execution_count": null,
   "metadata": {},
   "outputs": [],
   "source": [
    "pdf_test_file = PdfReader(get_data_path('external/watermark_test.pdf'))\n",
    "\n",
    "add_watermark_to_pdf(pdf_test_file, \"test\")\n",
    "\n"
   ]
  },
  {
   "cell_type": "code",
   "execution_count": null,
   "metadata": {},
   "outputs": [],
   "source": []
  }
 ],
 "metadata": {
  "kernelspec": {
   "display_name": "Python 3.8.5 64-bit ('3.8.5')",
   "language": "python",
   "name": "python3"
  },
  "language_info": {
   "codemirror_mode": {
    "name": "ipython",
    "version": 3
   },
   "file_extension": ".py",
   "mimetype": "text/x-python",
   "name": "python",
   "nbconvert_exporter": "python",
   "pygments_lexer": "ipython3",
   "version": "3.10.8"
  },
  "orig_nbformat": 4,
  "vscode": {
   "interpreter": {
    "hash": "e26ac07fc65a51b15a2ebc09c30a3330fce5ff4f001ba672fa7ea77a8c145bb6"
   }
  }
 },
 "nbformat": 4,
 "nbformat_minor": 2
}
